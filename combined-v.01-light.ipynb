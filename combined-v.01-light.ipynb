{
 "cells": [
  {
   "cell_type": "code",
   "execution_count": 1,
   "metadata": {},
   "outputs": [],
   "source": [
    "import sys\n",
    "import time\n",
    "import nltk\n",
    "import numpy\n",
    "import pandas\n",
    "import torch.nn\n",
    "import statistics\n",
    "import torch.utils\n",
    "import sklearn.metrics\n",
    "import sklearn.model_selection\n",
    "import sklearn.feature_extraction.text"
   ]
  },
  {
   "cell_type": "code",
   "execution_count": 2,
   "metadata": {},
   "outputs": [],
   "source": [
    "input_dataframe = pandas.read_csv('onion-or-not.csv', encoding='utf-8')"
   ]
  },
  {
   "cell_type": "code",
   "execution_count": 3,
   "metadata": {},
   "outputs": [],
   "source": [
    "tokenized_vector = dict()"
   ]
  },
  {
   "cell_type": "code",
   "execution_count": 4,
   "metadata": {},
   "outputs": [],
   "source": [
    "for i in input_dataframe.index:\n",
    "    tokenized_vector[i] = nltk.word_tokenize(input_dataframe.loc[i][0])"
   ]
  },
  {
   "cell_type": "code",
   "execution_count": 5,
   "metadata": {},
   "outputs": [],
   "source": [
    "stemmer = nltk.PorterStemmer()"
   ]
  },
  {
   "cell_type": "code",
   "execution_count": 6,
   "metadata": {},
   "outputs": [],
   "source": [
    "stopwords = set(nltk.corpus.stopwords.words('english'))"
   ]
  },
  {
   "cell_type": "code",
   "execution_count": 7,
   "metadata": {},
   "outputs": [],
   "source": [
    "for tokens in tokenized_vector:\n",
    "    for counter, token in enumerate(tokenized_vector[tokens]):\n",
    "        if stemmer.stem(tokenized_vector[tokens][counter]) not in stopwords:\n",
    "            tokenized_vector[tokens][counter] = stemmer.stem(tokenized_vector\n",
    "                                                             [tokens][counter])\n",
    "        else:\n",
    "            tokenized_vector[tokens].remove(tokenized_vector[tokens][counter])"
   ]
  },
  {
   "cell_type": "code",
   "execution_count": 8,
   "metadata": {},
   "outputs": [],
   "source": [
    "vectorizer = sklearn.feature_extraction.text.TfidfVectorizer()"
   ]
  },
  {
   "cell_type": "code",
   "execution_count": 9,
   "metadata": {},
   "outputs": [],
   "source": [
    "preprocessed_tokenized_vector = list()"
   ]
  },
  {
   "cell_type": "code",
   "execution_count": 10,
   "metadata": {},
   "outputs": [],
   "source": [
    "for i in tokenized_vector:\n",
    "    preprocessed_tokenized_vector.append(' '.join(tokenized_vector[i]))"
   ]
  },
  {
   "cell_type": "code",
   "execution_count": 11,
   "metadata": {},
   "outputs": [],
   "source": [
    "X = vectorizer.fit_transform(preprocessed_tokenized_vector)"
   ]
  },
  {
   "cell_type": "code",
   "execution_count": 12,
   "metadata": {},
   "outputs": [],
   "source": [
    "tf_idf_df = pandas.DataFrame(X.todense(),\n",
    "                             columns=vectorizer.get_feature_names(),\n",
    "                             dtype=numpy.float16)"
   ]
  },
  {
   "cell_type": "code",
   "execution_count": 13,
   "metadata": {},
   "outputs": [],
   "source": [
    "preprocessed_data = pandas.concat([tf_idf_df, input_dataframe.iloc[:, 1:]],\n",
    "                                  axis=1, sort=False)"
   ]
  },
  {
   "cell_type": "code",
   "execution_count": 14,
   "metadata": {},
   "outputs": [
    {
     "name": "stdout",
     "output_type": "stream",
     "text": [
      "Total size of dataframe:  1012.99 MB\n"
     ]
    }
   ],
   "source": [
    "print('Total size of dataframe: ',\n",
    "      round(sys.getsizeof(preprocessed_data) / 2**20, 2), 'MB')"
   ]
  },
  {
   "cell_type": "code",
   "execution_count": 15,
   "metadata": {},
   "outputs": [],
   "source": [
    "del X"
   ]
  },
  {
   "cell_type": "code",
   "execution_count": 16,
   "metadata": {},
   "outputs": [],
   "source": [
    "del tf_idf_df"
   ]
  },
  {
   "cell_type": "code",
   "execution_count": 17,
   "metadata": {},
   "outputs": [],
   "source": [
    "del preprocessed_tokenized_vector"
   ]
  },
  {
   "cell_type": "code",
   "execution_count": 18,
   "metadata": {},
   "outputs": [],
   "source": [
    "del tokenized_vector"
   ]
  },
  {
   "cell_type": "code",
   "execution_count": 19,
   "metadata": {},
   "outputs": [],
   "source": [
    "del input_dataframe"
   ]
  },
  {
   "cell_type": "code",
   "execution_count": 20,
   "metadata": {},
   "outputs": [],
   "source": [
    "PATH = '/home/andreas/Documents/data_mining/project/onion/input/'"
   ]
  },
  {
   "cell_type": "code",
   "execution_count": 21,
   "metadata": {},
   "outputs": [],
   "source": [
    "cols = pandas.DataFrame(preprocessed_data.columns[:-1].tolist(),\n",
    "                        columns=['tokens'])"
   ]
  },
  {
   "cell_type": "code",
   "execution_count": 22,
   "metadata": {},
   "outputs": [],
   "source": [
    "X = preprocessed_data.iloc[:, :-1]"
   ]
  },
  {
   "cell_type": "code",
   "execution_count": 23,
   "metadata": {},
   "outputs": [],
   "source": [
    "Y = preprocessed_data.iloc[:, -1]"
   ]
  },
  {
   "cell_type": "code",
   "execution_count": 24,
   "metadata": {},
   "outputs": [],
   "source": [
    "del preprocessed_data"
   ]
  },
  {
   "cell_type": "code",
   "execution_count": 25,
   "metadata": {},
   "outputs": [],
   "source": [
    "x_fit, x_test, y_fit, y_test = \\\n",
    "    sklearn.model_selection.train_test_split(X, Y,\n",
    "                                             test_size=0.25, random_state=42)"
   ]
  },
  {
   "cell_type": "code",
   "execution_count": 26,
   "metadata": {},
   "outputs": [],
   "source": [
    "x_train, x_val, y_train, y_val = \\\n",
    "    sklearn.model_selection.train_test_split(x_fit,\n",
    "                                             y_fit,\n",
    "                                             test_size=0.10,\n",
    "                                             random_state=42)"
   ]
  },
  {
   "cell_type": "code",
   "execution_count": 27,
   "metadata": {},
   "outputs": [],
   "source": [
    "del x_fit"
   ]
  },
  {
   "cell_type": "code",
   "execution_count": 28,
   "metadata": {},
   "outputs": [],
   "source": [
    "del y_fit"
   ]
  },
  {
   "cell_type": "code",
   "execution_count": 29,
   "metadata": {},
   "outputs": [],
   "source": [
    "x_train = torch.from_numpy(x_train.to_numpy()).float()\n",
    "y_train = torch.from_numpy(y_train.to_numpy()).float()"
   ]
  },
  {
   "cell_type": "code",
   "execution_count": 30,
   "metadata": {},
   "outputs": [],
   "source": [
    "train_dataset = torch.utils.data.TensorDataset(x_train, y_train)"
   ]
  },
  {
   "cell_type": "code",
   "execution_count": 31,
   "metadata": {},
   "outputs": [],
   "source": [
    "del x_train"
   ]
  },
  {
   "cell_type": "code",
   "execution_count": 32,
   "metadata": {},
   "outputs": [],
   "source": [
    "del y_train"
   ]
  },
  {
   "cell_type": "code",
   "execution_count": 33,
   "metadata": {},
   "outputs": [],
   "source": [
    "x_val = torch.from_numpy(x_val.to_numpy()).float()\n",
    "y_val = torch.from_numpy(y_val.to_numpy()).float()"
   ]
  },
  {
   "cell_type": "code",
   "execution_count": 34,
   "metadata": {},
   "outputs": [],
   "source": [
    "val_dataset = torch.utils.data.TensorDataset(x_val, y_val)"
   ]
  },
  {
   "cell_type": "code",
   "execution_count": 35,
   "metadata": {},
   "outputs": [],
   "source": [
    "del x_val"
   ]
  },
  {
   "cell_type": "code",
   "execution_count": 36,
   "metadata": {},
   "outputs": [],
   "source": [
    "del y_val"
   ]
  },
  {
   "cell_type": "code",
   "execution_count": 37,
   "metadata": {},
   "outputs": [],
   "source": [
    "x_test = torch.from_numpy(x_test.to_numpy()).float()\n",
    "y_test = torch.from_numpy(y_test.to_numpy()).float()"
   ]
  },
  {
   "cell_type": "code",
   "execution_count": 38,
   "metadata": {},
   "outputs": [],
   "source": [
    "test_dataset = torch.utils.data.TensorDataset(x_test, y_test)"
   ]
  },
  {
   "cell_type": "code",
   "execution_count": 39,
   "metadata": {},
   "outputs": [],
   "source": [
    "train_loader = torch.utils.data.DataLoader(train_dataset)\n",
    "val_loader = torch.utils.data.DataLoader(val_dataset)\n",
    "test_loader = torch.utils.data.DataLoader(test_dataset)"
   ]
  },
  {
   "cell_type": "code",
   "execution_count": 40,
   "metadata": {},
   "outputs": [],
   "source": [
    "del train_dataset"
   ]
  },
  {
   "cell_type": "code",
   "execution_count": 41,
   "metadata": {},
   "outputs": [],
   "source": [
    "del val_dataset"
   ]
  },
  {
   "cell_type": "code",
   "execution_count": 42,
   "metadata": {},
   "outputs": [],
   "source": [
    "del test_dataset"
   ]
  },
  {
   "cell_type": "code",
   "execution_count": 43,
   "metadata": {},
   "outputs": [],
   "source": [
    "X = torch.from_numpy(X.to_numpy()).float()\n",
    "Y = torch.from_numpy(Y.to_numpy()).float()"
   ]
  },
  {
   "cell_type": "code",
   "execution_count": 44,
   "metadata": {},
   "outputs": [],
   "source": [
    "model = torch.nn.Sequential(\n",
    "    torch.nn.Linear(X.shape[1], 128),\n",
    "    torch.nn.ReLU(),\n",
    "    torch.nn.Linear(128, 64),\n",
    "    torch.nn.ReLU(),\n",
    "    torch.nn.Linear(64, 1),\n",
    "    torch.nn.Sigmoid()\n",
    ")"
   ]
  },
  {
   "cell_type": "code",
   "execution_count": 45,
   "metadata": {},
   "outputs": [],
   "source": [
    "criterion = torch.nn.BCELoss()"
   ]
  },
  {
   "cell_type": "code",
   "execution_count": 46,
   "metadata": {},
   "outputs": [],
   "source": [
    "learning_rate = 1e-4"
   ]
  },
  {
   "cell_type": "code",
   "execution_count": 47,
   "metadata": {},
   "outputs": [],
   "source": [
    "optimizer = torch.optim.Adam(model.parameters(),\n",
    "                             lr=learning_rate)"
   ]
  },
  {
   "cell_type": "code",
   "execution_count": 48,
   "metadata": {},
   "outputs": [],
   "source": [
    "def get_device():\n",
    "    device = None\n",
    "    if torch.cuda.is_available():\n",
    "        device = torch.device('cuda')\n",
    "    else:\n",
    "        device = torch.device('cpu')\n",
    "    return device"
   ]
  },
  {
   "cell_type": "code",
   "execution_count": 49,
   "metadata": {},
   "outputs": [],
   "source": [
    "device = get_device()"
   ]
  },
  {
   "cell_type": "code",
   "execution_count": 50,
   "metadata": {},
   "outputs": [
    {
     "data": {
      "text/plain": [
       "Sequential(\n",
       "  (0): Linear(in_features=22125, out_features=128, bias=True)\n",
       "  (1): ReLU()\n",
       "  (2): Linear(in_features=128, out_features=64, bias=True)\n",
       "  (3): ReLU()\n",
       "  (4): Linear(in_features=64, out_features=1, bias=True)\n",
       "  (5): Sigmoid()\n",
       ")"
      ]
     },
     "execution_count": 50,
     "metadata": {},
     "output_type": "execute_result"
    }
   ],
   "source": [
    "model.to(device)"
   ]
  },
  {
   "cell_type": "code",
   "execution_count": 51,
   "metadata": {},
   "outputs": [],
   "source": [
    "early_stopping = False\n",
    "# initialize early stopping prevention limit\n",
    "prevent = 5\n",
    "# initialize early stopping prevention limit\n",
    "consecutive = False\n",
    "# initialize early stopping message\n",
    "message = ' '\n",
    "# initialize epoch counter\n",
    "epoch = 0\n",
    "# number of epochs to train the model\n",
    "epochs = 500\n",
    "# initialize variables\n",
    "prev_mean_valid_loss = numpy.Inf\n",
    "start = 0\n",
    "# initialize error lists\n",
    "train_loss = []\n",
    "valid_loss = []\n",
    "history = []"
   ]
  },
  {
   "cell_type": "code",
   "execution_count": 52,
   "metadata": {},
   "outputs": [
    {
     "name": "stdout",
     "output_type": "stream",
     "text": [
      "Time:  0  (in seconds)\n",
      "Epoch:  2 \t Time: + 68.4135754108429 \t Training        loss:  0.2836213575886964 \t Validation loss:  0.29335930456284487\n",
      "Epoch:  4 \t Time: + 66.45898079872131 \t Training        loss:  0.21109626097013562 \t Validation loss:  0.318161588178347\n",
      "Epoch:  6 \t Time: + 72.18595027923584 \t Training        loss:  0.17353562375040646 \t Validation loss:  0.34741069400193947\n",
      "Epoch:  8 \t Time: + 73.12869954109192 \t Training        loss:  0.14889757766490186 \t Validation loss:  0.3773300359175751\n",
      "\t\tStopping at epoch:  8 \tPrevious average Validation error was lower than                current Validation error\n"
     ]
    }
   ],
   "source": [
    "print('Time: ', start, ' (in seconds)')\n",
    "while not early_stopping and epoch < epochs:\n",
    "    if epoch == 0:\n",
    "        start = time.time()\n",
    "\n",
    "    # prep model for training\n",
    "    model.train()\n",
    "    for x_train, y_train in train_loader:\n",
    "        # forward pass\n",
    "        y_hat = model(x_train.to(device))\n",
    "        # calculate the loss\n",
    "        loss = criterion(y_hat.flatten(), y_train.to(device))\n",
    "        # clear the gradients of all optimized variables\n",
    "        optimizer.zero_grad()\n",
    "        # backward pass\n",
    "        loss.backward()\n",
    "        # perform a single optimization step (parameter update)\n",
    "        optimizer.step()\n",
    "        # update running training loss\n",
    "        train_loss.append(loss.item())\n",
    "    # shut down autograd to begin evaluation\n",
    "    with torch.no_grad():\n",
    "        # prep model for evaluation\n",
    "        model.eval()\n",
    "        for x_val, y_val in val_loader:\n",
    "            # forward pass\n",
    "            y_hat = model(x_val.to(device))\n",
    "            # calculate the loss\n",
    "            loss = criterion(y_hat.flatten(), y_val.to(device))\n",
    "            # update running validation loss\n",
    "            valid_loss.append(loss.item())\n",
    "    # early stopping conditional\n",
    "    if prev_mean_valid_loss <= statistics.mean(valid_loss):\n",
    "        if consecutive is True:\n",
    "            prevent -= 1\n",
    "        consecutive = True\n",
    "        if prevent < 0:\n",
    "            early_stopping = True\n",
    "            message = '\\tPrevious average Validation error was lower than\\\n",
    "                current Validation error'\n",
    "    else:\n",
    "        consecutive = False\n",
    "\n",
    "    # print results after 2 epochs\n",
    "    if epoch % 2 == 1:\n",
    "        end = time.time()\n",
    "        print('Epoch: ', epoch+1, '\\t Time: +', end-start, '\\t Training\\\n",
    "        loss: ', statistics.mean(train_loss), '\\t Validation loss: ',\n",
    "              statistics.mean(valid_loss))\n",
    "        start = time.time()\n",
    "\n",
    "    # update epoch's validation loss variable\n",
    "    prev_mean_valid_loss = statistics.mean(valid_loss)\n",
    "\n",
    "    # early stopping message\n",
    "    if early_stopping is True:\n",
    "        print('\\t\\tStopping at epoch: ', epoch + 1, message)\n",
    "        epoch = epochs - 1\n",
    "    epoch += 1"
   ]
  },
  {
   "cell_type": "code",
   "execution_count": 53,
   "metadata": {},
   "outputs": [],
   "source": [
    "del x_train"
   ]
  },
  {
   "cell_type": "code",
   "execution_count": 54,
   "metadata": {},
   "outputs": [],
   "source": [
    "del y_train"
   ]
  },
  {
   "cell_type": "code",
   "execution_count": 55,
   "metadata": {},
   "outputs": [],
   "source": [
    "del x_val"
   ]
  },
  {
   "cell_type": "code",
   "execution_count": 56,
   "metadata": {},
   "outputs": [],
   "source": [
    "del y_val"
   ]
  },
  {
   "cell_type": "code",
   "execution_count": 57,
   "metadata": {},
   "outputs": [],
   "source": [
    "del train_loader"
   ]
  },
  {
   "cell_type": "code",
   "execution_count": 58,
   "metadata": {},
   "outputs": [],
   "source": [
    "del val_loader"
   ]
  },
  {
   "cell_type": "code",
   "execution_count": 59,
   "metadata": {},
   "outputs": [
    {
     "name": "stdout",
     "output_type": "stream",
     "text": [
      "\tTime: 2.022634983 \tTest Loss: 0.454611278085990\n"
     ]
    }
   ],
   "source": [
    "# define test error list\n",
    "test_loss = []\n",
    "# initialize timer\n",
    "start = time.time()\n",
    "# test model\n",
    "model.eval()\n",
    "with torch.no_grad():\n",
    "    for x, y in test_loader:\n",
    "        yhat = model(x.to(device))\n",
    "        loss = criterion(yhat.flatten(), y.to(device))\n",
    "        test_loss.append(loss.item())\n",
    "# end time checkpoint\n",
    "end = time.time()\n",
    "# print test results\n",
    "print('\\tTime: {:.10} \\tTest Loss: {:.15f}'.format(end-start,\n",
    "                                                   statistics.mean(test_loss)))"
   ]
  },
  {
   "cell_type": "code",
   "execution_count": 60,
   "metadata": {},
   "outputs": [],
   "source": [
    "del test_loader"
   ]
  },
  {
   "cell_type": "code",
   "execution_count": 61,
   "metadata": {},
   "outputs": [],
   "source": [
    "# check model's prediction on the whole dataset\n",
    "prediction = None\n",
    "with torch.no_grad():\n",
    "    prediction = model(x_test.to(device)).cpu().detach()"
   ]
  },
  {
   "cell_type": "code",
   "execution_count": 62,
   "metadata": {},
   "outputs": [],
   "source": [
    "final_evaluation = []\n",
    "y_hat = []\n",
    "y_real = []\n",
    "evaluation = []"
   ]
  },
  {
   "cell_type": "code",
   "execution_count": 63,
   "metadata": {},
   "outputs": [],
   "source": [
    "for i in range(len(y_test)):\n",
    "    final_evaluation.append(y_test[i].numpy() - prediction[i].item())\n",
    "    y_real.append(y_test[i].numpy())\n",
    "    y_hat.append(prediction[i].item())\n",
    "    if abs(y_test[i].numpy() - prediction[i].item()) > 0.5:\n",
    "        evaluation.append(False)\n",
    "    else:\n",
    "        evaluation.append(True)"
   ]
  },
  {
   "cell_type": "code",
   "execution_count": 64,
   "metadata": {},
   "outputs": [],
   "source": [
    "test_df = pandas.DataFrame(list(zip(final_evaluation, evaluation, y_real,\n",
    "                                    y_hat)), columns=['loss_dif',\n",
    "                                                      'evaluation',\n",
    "                                                      'y_real',\n",
    "                                                      'y_hat'])"
   ]
  },
  {
   "cell_type": "code",
   "execution_count": 65,
   "metadata": {},
   "outputs": [
    {
     "data": {
      "text/html": [
       "<div>\n",
       "<style scoped>\n",
       "    .dataframe tbody tr th:only-of-type {\n",
       "        vertical-align: middle;\n",
       "    }\n",
       "\n",
       "    .dataframe tbody tr th {\n",
       "        vertical-align: top;\n",
       "    }\n",
       "\n",
       "    .dataframe thead th {\n",
       "        text-align: right;\n",
       "    }\n",
       "</style>\n",
       "<table border=\"1\" class=\"dataframe\">\n",
       "  <thead>\n",
       "    <tr style=\"text-align: right;\">\n",
       "      <th></th>\n",
       "      <th>loss_dif</th>\n",
       "      <th>evaluation</th>\n",
       "      <th>y_real</th>\n",
       "      <th>y_hat</th>\n",
       "    </tr>\n",
       "  </thead>\n",
       "  <tbody>\n",
       "    <tr>\n",
       "      <th>0</th>\n",
       "      <td>-0.000137</td>\n",
       "      <td>True</td>\n",
       "      <td>0.0</td>\n",
       "      <td>0.000137</td>\n",
       "    </tr>\n",
       "    <tr>\n",
       "      <th>1</th>\n",
       "      <td>-0.000188</td>\n",
       "      <td>True</td>\n",
       "      <td>0.0</td>\n",
       "      <td>0.000188</td>\n",
       "    </tr>\n",
       "    <tr>\n",
       "      <th>2</th>\n",
       "      <td>-0.011402</td>\n",
       "      <td>True</td>\n",
       "      <td>0.0</td>\n",
       "      <td>0.011402</td>\n",
       "    </tr>\n",
       "    <tr>\n",
       "      <th>3</th>\n",
       "      <td>-0.000104</td>\n",
       "      <td>True</td>\n",
       "      <td>0.0</td>\n",
       "      <td>0.000104</td>\n",
       "    </tr>\n",
       "    <tr>\n",
       "      <th>4</th>\n",
       "      <td>-0.000932</td>\n",
       "      <td>True</td>\n",
       "      <td>0.0</td>\n",
       "      <td>0.000932</td>\n",
       "    </tr>\n",
       "    <tr>\n",
       "      <th>...</th>\n",
       "      <td>...</td>\n",
       "      <td>...</td>\n",
       "      <td>...</td>\n",
       "      <td>...</td>\n",
       "    </tr>\n",
       "    <tr>\n",
       "      <th>5995</th>\n",
       "      <td>-0.001848</td>\n",
       "      <td>True</td>\n",
       "      <td>0.0</td>\n",
       "      <td>0.001848</td>\n",
       "    </tr>\n",
       "    <tr>\n",
       "      <th>5996</th>\n",
       "      <td>-0.000204</td>\n",
       "      <td>True</td>\n",
       "      <td>0.0</td>\n",
       "      <td>0.000204</td>\n",
       "    </tr>\n",
       "    <tr>\n",
       "      <th>5997</th>\n",
       "      <td>-0.000040</td>\n",
       "      <td>True</td>\n",
       "      <td>0.0</td>\n",
       "      <td>0.000040</td>\n",
       "    </tr>\n",
       "    <tr>\n",
       "      <th>5998</th>\n",
       "      <td>-0.357908</td>\n",
       "      <td>True</td>\n",
       "      <td>0.0</td>\n",
       "      <td>0.357908</td>\n",
       "    </tr>\n",
       "    <tr>\n",
       "      <th>5999</th>\n",
       "      <td>-0.000471</td>\n",
       "      <td>True</td>\n",
       "      <td>0.0</td>\n",
       "      <td>0.000471</td>\n",
       "    </tr>\n",
       "  </tbody>\n",
       "</table>\n",
       "<p>6000 rows × 4 columns</p>\n",
       "</div>"
      ],
      "text/plain": [
       "      loss_dif  evaluation y_real     y_hat\n",
       "0    -0.000137        True    0.0  0.000137\n",
       "1    -0.000188        True    0.0  0.000188\n",
       "2    -0.011402        True    0.0  0.011402\n",
       "3    -0.000104        True    0.0  0.000104\n",
       "4    -0.000932        True    0.0  0.000932\n",
       "...        ...         ...    ...       ...\n",
       "5995 -0.001848        True    0.0  0.001848\n",
       "5996 -0.000204        True    0.0  0.000204\n",
       "5997 -0.000040        True    0.0  0.000040\n",
       "5998 -0.357908        True    0.0  0.357908\n",
       "5999 -0.000471        True    0.0  0.000471\n",
       "\n",
       "[6000 rows x 4 columns]"
      ]
     },
     "execution_count": 65,
     "metadata": {},
     "output_type": "execute_result"
    }
   ],
   "source": [
    "test_df"
   ]
  },
  {
   "cell_type": "code",
   "execution_count": 66,
   "metadata": {},
   "outputs": [],
   "source": [
    "debug = test_df.loc[test_df['evaluation'] == False]"
   ]
  },
  {
   "cell_type": "code",
   "execution_count": 67,
   "metadata": {},
   "outputs": [
    {
     "data": {
      "text/html": [
       "<div>\n",
       "<style scoped>\n",
       "    .dataframe tbody tr th:only-of-type {\n",
       "        vertical-align: middle;\n",
       "    }\n",
       "\n",
       "    .dataframe tbody tr th {\n",
       "        vertical-align: top;\n",
       "    }\n",
       "\n",
       "    .dataframe thead th {\n",
       "        text-align: right;\n",
       "    }\n",
       "</style>\n",
       "<table border=\"1\" class=\"dataframe\">\n",
       "  <thead>\n",
       "    <tr style=\"text-align: right;\">\n",
       "      <th></th>\n",
       "      <th>loss_dif</th>\n",
       "      <th>evaluation</th>\n",
       "      <th>y_real</th>\n",
       "      <th>y_hat</th>\n",
       "    </tr>\n",
       "  </thead>\n",
       "  <tbody>\n",
       "    <tr>\n",
       "      <th>11</th>\n",
       "      <td>-0.573176</td>\n",
       "      <td>False</td>\n",
       "      <td>0.0</td>\n",
       "      <td>0.573176</td>\n",
       "    </tr>\n",
       "    <tr>\n",
       "      <th>12</th>\n",
       "      <td>-0.821854</td>\n",
       "      <td>False</td>\n",
       "      <td>0.0</td>\n",
       "      <td>0.821854</td>\n",
       "    </tr>\n",
       "    <tr>\n",
       "      <th>28</th>\n",
       "      <td>-0.931019</td>\n",
       "      <td>False</td>\n",
       "      <td>0.0</td>\n",
       "      <td>0.931019</td>\n",
       "    </tr>\n",
       "    <tr>\n",
       "      <th>49</th>\n",
       "      <td>0.953646</td>\n",
       "      <td>False</td>\n",
       "      <td>1.0</td>\n",
       "      <td>0.046354</td>\n",
       "    </tr>\n",
       "    <tr>\n",
       "      <th>50</th>\n",
       "      <td>0.854290</td>\n",
       "      <td>False</td>\n",
       "      <td>1.0</td>\n",
       "      <td>0.145710</td>\n",
       "    </tr>\n",
       "    <tr>\n",
       "      <th>...</th>\n",
       "      <td>...</td>\n",
       "      <td>...</td>\n",
       "      <td>...</td>\n",
       "      <td>...</td>\n",
       "    </tr>\n",
       "    <tr>\n",
       "      <th>5964</th>\n",
       "      <td>-0.685676</td>\n",
       "      <td>False</td>\n",
       "      <td>0.0</td>\n",
       "      <td>0.685676</td>\n",
       "    </tr>\n",
       "    <tr>\n",
       "      <th>5971</th>\n",
       "      <td>0.989906</td>\n",
       "      <td>False</td>\n",
       "      <td>1.0</td>\n",
       "      <td>0.010094</td>\n",
       "    </tr>\n",
       "    <tr>\n",
       "      <th>5981</th>\n",
       "      <td>0.996870</td>\n",
       "      <td>False</td>\n",
       "      <td>1.0</td>\n",
       "      <td>0.003130</td>\n",
       "    </tr>\n",
       "    <tr>\n",
       "      <th>5984</th>\n",
       "      <td>0.997727</td>\n",
       "      <td>False</td>\n",
       "      <td>1.0</td>\n",
       "      <td>0.002273</td>\n",
       "    </tr>\n",
       "    <tr>\n",
       "      <th>5993</th>\n",
       "      <td>0.977437</td>\n",
       "      <td>False</td>\n",
       "      <td>1.0</td>\n",
       "      <td>0.022563</td>\n",
       "    </tr>\n",
       "  </tbody>\n",
       "</table>\n",
       "<p>835 rows × 4 columns</p>\n",
       "</div>"
      ],
      "text/plain": [
       "      loss_dif  evaluation y_real     y_hat\n",
       "11   -0.573176       False    0.0  0.573176\n",
       "12   -0.821854       False    0.0  0.821854\n",
       "28   -0.931019       False    0.0  0.931019\n",
       "49    0.953646       False    1.0  0.046354\n",
       "50    0.854290       False    1.0  0.145710\n",
       "...        ...         ...    ...       ...\n",
       "5964 -0.685676       False    0.0  0.685676\n",
       "5971  0.989906       False    1.0  0.010094\n",
       "5981  0.996870       False    1.0  0.003130\n",
       "5984  0.997727       False    1.0  0.002273\n",
       "5993  0.977437       False    1.0  0.022563\n",
       "\n",
       "[835 rows x 4 columns]"
      ]
     },
     "execution_count": 67,
     "metadata": {},
     "output_type": "execute_result"
    }
   ],
   "source": [
    "debug"
   ]
  },
  {
   "cell_type": "code",
   "execution_count": 68,
   "metadata": {},
   "outputs": [
    {
     "name": "stdout",
     "output_type": "stream",
     "text": [
      "              precision    recall  f1-score   support\n",
      "\n",
      "         0.0       0.88      0.90      0.89      3798\n",
      "         1.0       0.82      0.80      0.81      2202\n",
      "\n",
      "    accuracy                           0.86      6000\n",
      "   macro avg       0.85      0.85      0.85      6000\n",
      "weighted avg       0.86      0.86      0.86      6000\n",
      "\n"
     ]
    }
   ],
   "source": [
    "print(sklearn.metrics.classification_report(\n",
    "    test_df.y_real.astype(numpy.float16).to_numpy(),\n",
    "    numpy.where(test_df.y_hat.astype(numpy.float16).to_numpy() > 0.5, 1, 0)))"
   ]
  },
  {
   "cell_type": "code",
   "execution_count": 69,
   "metadata": {},
   "outputs": [],
   "source": [
    "# check model's prediction on the whole dataset\n",
    "overall = None\n",
    "with torch.no_grad():\n",
    "    overall = model(X.to(device)).cpu().detach()"
   ]
  },
  {
   "cell_type": "code",
   "execution_count": 70,
   "metadata": {},
   "outputs": [],
   "source": [
    "final_evaluation = []\n",
    "y_hat = []\n",
    "y_real = []\n",
    "evaluation = []"
   ]
  },
  {
   "cell_type": "code",
   "execution_count": 71,
   "metadata": {},
   "outputs": [],
   "source": [
    "for i in range(len(Y)):\n",
    "    final_evaluation.append(Y[i].numpy() - overall[i].item())\n",
    "    y_real.append(Y[i].numpy())\n",
    "    y_hat.append(overall[i].item())\n",
    "    if abs(Y[i].numpy() - overall[i].item()) > 0.5:\n",
    "        evaluation.append(False)\n",
    "    else:\n",
    "        evaluation.append(True)"
   ]
  },
  {
   "cell_type": "code",
   "execution_count": 72,
   "metadata": {},
   "outputs": [],
   "source": [
    "overall_df = pandas.DataFrame(list(zip(final_evaluation, evaluation, y_real,\n",
    "                                       y_hat)), columns=['loss_dif',\n",
    "                                                         'evaluation',\n",
    "                                                         'y_real',\n",
    "                                                         'y_hat'])"
   ]
  },
  {
   "cell_type": "code",
   "execution_count": 73,
   "metadata": {},
   "outputs": [],
   "source": [
    "del final_evaluation"
   ]
  },
  {
   "cell_type": "code",
   "execution_count": 74,
   "metadata": {},
   "outputs": [],
   "source": [
    "del y_hat"
   ]
  },
  {
   "cell_type": "code",
   "execution_count": 75,
   "metadata": {},
   "outputs": [],
   "source": [
    "del y_real"
   ]
  },
  {
   "cell_type": "code",
   "execution_count": 76,
   "metadata": {},
   "outputs": [
    {
     "data": {
      "text/plain": [
       "True     22644\n",
       "False     1356\n",
       "Name: evaluation, dtype: int64"
      ]
     },
     "execution_count": 76,
     "metadata": {},
     "output_type": "execute_result"
    }
   ],
   "source": [
    "overall_df.evaluation.value_counts()"
   ]
  },
  {
   "cell_type": "code",
   "execution_count": 77,
   "metadata": {},
   "outputs": [
    {
     "data": {
      "text/plain": [
       "0.005140162436089488"
      ]
     },
     "execution_count": 77,
     "metadata": {},
     "output_type": "execute_result"
    }
   ],
   "source": [
    "overall_df.loss_dif.mean()"
   ]
  },
  {
   "cell_type": "code",
   "execution_count": 78,
   "metadata": {},
   "outputs": [],
   "source": [
    "errors = overall_df.loc[overall_df['evaluation'] == False]"
   ]
  },
  {
   "cell_type": "code",
   "execution_count": 79,
   "metadata": {},
   "outputs": [
    {
     "data": {
      "text/html": [
       "<div>\n",
       "<style scoped>\n",
       "    .dataframe tbody tr th:only-of-type {\n",
       "        vertical-align: middle;\n",
       "    }\n",
       "\n",
       "    .dataframe tbody tr th {\n",
       "        vertical-align: top;\n",
       "    }\n",
       "\n",
       "    .dataframe thead th {\n",
       "        text-align: right;\n",
       "    }\n",
       "</style>\n",
       "<table border=\"1\" class=\"dataframe\">\n",
       "  <thead>\n",
       "    <tr style=\"text-align: right;\">\n",
       "      <th></th>\n",
       "      <th>loss_dif</th>\n",
       "      <th>evaluation</th>\n",
       "      <th>y_real</th>\n",
       "      <th>y_hat</th>\n",
       "    </tr>\n",
       "  </thead>\n",
       "  <tbody>\n",
       "    <tr>\n",
       "      <th>17</th>\n",
       "      <td>0.614227</td>\n",
       "      <td>False</td>\n",
       "      <td>1.0</td>\n",
       "      <td>0.385773</td>\n",
       "    </tr>\n",
       "    <tr>\n",
       "      <th>31</th>\n",
       "      <td>0.987712</td>\n",
       "      <td>False</td>\n",
       "      <td>1.0</td>\n",
       "      <td>0.012288</td>\n",
       "    </tr>\n",
       "    <tr>\n",
       "      <th>39</th>\n",
       "      <td>0.841730</td>\n",
       "      <td>False</td>\n",
       "      <td>1.0</td>\n",
       "      <td>0.158270</td>\n",
       "    </tr>\n",
       "    <tr>\n",
       "      <th>54</th>\n",
       "      <td>-0.589078</td>\n",
       "      <td>False</td>\n",
       "      <td>0.0</td>\n",
       "      <td>0.589078</td>\n",
       "    </tr>\n",
       "    <tr>\n",
       "      <th>69</th>\n",
       "      <td>-0.559873</td>\n",
       "      <td>False</td>\n",
       "      <td>0.0</td>\n",
       "      <td>0.559873</td>\n",
       "    </tr>\n",
       "    <tr>\n",
       "      <th>...</th>\n",
       "      <td>...</td>\n",
       "      <td>...</td>\n",
       "      <td>...</td>\n",
       "      <td>...</td>\n",
       "    </tr>\n",
       "    <tr>\n",
       "      <th>23957</th>\n",
       "      <td>0.953646</td>\n",
       "      <td>False</td>\n",
       "      <td>1.0</td>\n",
       "      <td>0.046354</td>\n",
       "    </tr>\n",
       "    <tr>\n",
       "      <th>23964</th>\n",
       "      <td>0.997210</td>\n",
       "      <td>False</td>\n",
       "      <td>1.0</td>\n",
       "      <td>0.002790</td>\n",
       "    </tr>\n",
       "    <tr>\n",
       "      <th>23971</th>\n",
       "      <td>-0.945663</td>\n",
       "      <td>False</td>\n",
       "      <td>0.0</td>\n",
       "      <td>0.945663</td>\n",
       "    </tr>\n",
       "    <tr>\n",
       "      <th>23974</th>\n",
       "      <td>0.995067</td>\n",
       "      <td>False</td>\n",
       "      <td>1.0</td>\n",
       "      <td>0.004933</td>\n",
       "    </tr>\n",
       "    <tr>\n",
       "      <th>23980</th>\n",
       "      <td>0.946139</td>\n",
       "      <td>False</td>\n",
       "      <td>1.0</td>\n",
       "      <td>0.053861</td>\n",
       "    </tr>\n",
       "  </tbody>\n",
       "</table>\n",
       "<p>1356 rows × 4 columns</p>\n",
       "</div>"
      ],
      "text/plain": [
       "       loss_dif  evaluation y_real     y_hat\n",
       "17     0.614227       False    1.0  0.385773\n",
       "31     0.987712       False    1.0  0.012288\n",
       "39     0.841730       False    1.0  0.158270\n",
       "54    -0.589078       False    0.0  0.589078\n",
       "69    -0.559873       False    0.0  0.559873\n",
       "...         ...         ...    ...       ...\n",
       "23957  0.953646       False    1.0  0.046354\n",
       "23964  0.997210       False    1.0  0.002790\n",
       "23971 -0.945663       False    0.0  0.945663\n",
       "23974  0.995067       False    1.0  0.004933\n",
       "23980  0.946139       False    1.0  0.053861\n",
       "\n",
       "[1356 rows x 4 columns]"
      ]
     },
     "execution_count": 79,
     "metadata": {},
     "output_type": "execute_result"
    }
   ],
   "source": [
    "errors"
   ]
  },
  {
   "cell_type": "code",
   "execution_count": 80,
   "metadata": {},
   "outputs": [
    {
     "name": "stdout",
     "output_type": "stream",
     "text": [
      "              precision    recall  f1-score   support\n",
      "\n",
      "         0.0       0.95      0.96      0.96     15000\n",
      "         1.0       0.93      0.92      0.92      9000\n",
      "\n",
      "    accuracy                           0.94     24000\n",
      "   macro avg       0.94      0.94      0.94     24000\n",
      "weighted avg       0.94      0.94      0.94     24000\n",
      "\n"
     ]
    }
   ],
   "source": [
    "print(sklearn.metrics.classification_report(\n",
    "    overall_df.y_real.astype(numpy.float16).to_numpy(),\n",
    "    numpy.where(\n",
    "        overall_df.y_hat.astype(numpy.float16).to_numpy() > 0.5, 1, 0)\n",
    "))"
   ]
  },
  {
   "cell_type": "code",
   "execution_count": 81,
   "metadata": {},
   "outputs": [],
   "source": [
    "del errors"
   ]
  },
  {
   "cell_type": "code",
   "execution_count": 82,
   "metadata": {},
   "outputs": [],
   "source": [
    "del overall_df"
   ]
  },
  {
   "cell_type": "code",
   "execution_count": 83,
   "metadata": {},
   "outputs": [],
   "source": [
    "del train_loss"
   ]
  },
  {
   "cell_type": "code",
   "execution_count": 84,
   "metadata": {},
   "outputs": [],
   "source": [
    "del valid_loss"
   ]
  },
  {
   "cell_type": "code",
   "execution_count": 85,
   "metadata": {},
   "outputs": [],
   "source": [
    "del test_loss"
   ]
  },
  {
   "cell_type": "code",
   "execution_count": null,
   "metadata": {},
   "outputs": [],
   "source": []
  }
 ],
 "metadata": {
  "kernelspec": {
   "display_name": "Python 3",
   "language": "python",
   "name": "python3"
  },
  "language_info": {
   "codemirror_mode": {
    "name": "ipython",
    "version": 3
   },
   "file_extension": ".py",
   "mimetype": "text/x-python",
   "name": "python",
   "nbconvert_exporter": "python",
   "pygments_lexer": "ipython3",
   "version": "3.7.7"
  }
 },
 "nbformat": 4,
 "nbformat_minor": 4
}
